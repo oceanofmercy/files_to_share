{
  "cells": [
    {
      "cell_type": "code",
      "execution_count": 1,
      "metadata": {
        "colab": {
          "base_uri": "https://localhost:8080/"
        },
        "id": "epID6bMC7d-x",
        "outputId": "9f117e9c-e96c-4c89-ceec-e8f899c255d8"
      },
      "outputs": [
        {
          "output_type": "stream",
          "name": "stdout",
          "text": [
            "Populating the interactive namespace from numpy and matplotlib\n"
          ]
        }
      ],
      "source": [
        "# special IPython command to prepare the notebook for matplotlib and other libraries\n",
        "%pylab inline \n",
        "\n",
        "import numpy as np\n",
        "import pandas as pd\n",
        "import scipy.stats as stats\n",
        "import matplotlib.pyplot as plt\n",
        "import sklearn\n",
        "\n",
        "import seaborn as sns\n",
        "\n",
        "# special matplotlib argument for improved plots\n",
        "from matplotlib import rcParams\n",
        "sns.set_style(\"whitegrid\")\n",
        "sns.set_context(\"poster\")\n"
      ]
    },
    {
      "cell_type": "markdown",
      "metadata": {
        "id": "--mMa1QG7d-0"
      },
      "source": [
        "***\n",
        "# Part 1: Linear Regression\n",
        "### Purpose of linear regression\n",
        "\n",
        "<p> Given a dataset $X$ and $Y$, linear regression can be used to: </p>\n",
        "<ul>\n",
        "  <li> Build a <b>predictive model</b> to predict future values of $X_i$ without a $Y$ value.  </li>\n",
        "  <li> Model the <b>strength of the relationship</b> between each dependent variable $X_i$ and $Y$</li>\n",
        "    <ul>\n",
        "      <li> Sometimes not all $X_i$ will have a relationship with $Y$</li>\n",
        "      <li> Need to figure out which $X_i$ contributes most information to determine $Y$ </li>\n",
        "    </ul>\n",
        "   <li>Linear regression is used in so many applications that I won't warrant this with examples. It is in many cases, the first pass prediction algorithm for continuous outcomes. </li>\n",
        "</ul>\n",
        "</div>\n",
        "\n",
        "[Linear Regression] is a model that establishes the relationship between a set of independent variables $X$ (also knowns as explanatory variables, features, predictors) and a dependent variable $Y$.  This method assumes the relationship between each predictor $X$ is linearly related to the dependent variable $Y$.  \n",
        "\n",
        "$$ Y = \\beta_0 + \\beta_1 X + \\epsilon$$\n",
        "\n",
        "where $\\epsilon$ is considered as an unobservable random variable that adds noise to the linear relationship. This is the simplest form of linear regression (one variable), we'll call this the simple model. \n",
        "\n",
        "* $\\beta_0$ is the intercept of the linear model\n",
        "\n",
        "* Multiple linear regression is when you have more than one independent variable\n",
        "    * $X_1$, $X_2$, $X_3$, $\\ldots$\n",
        "\n",
        "$$ Y = \\beta_0 + \\beta_1 X_1 + \\ldots + \\beta_p X_p + \\epsilon$$ \n",
        "\n",
        "\n",
        "* How do you estimate the coefficients? \n",
        "    * There are many ways to fit a linear regression model\n",
        "    * The method called **least squares** is one of the most common methods\n",
        "\n",
        "    \n",
        "#### Estimating $\\hat\\beta$: Least squares\n",
        "***\n",
        "[Least squares] is a method that can estimate the coefficients of a linear model by minimizing the difference between the following: \n",
        "\n",
        "$$ S = \\sum_{i=1}^N r_i = \\sum_{i=1}^N (y_i - (\\beta_0 + \\beta_1 x_i))^2 $$\n",
        "\n",
        "where $N$ is the number of observations.  \n",
        "\n",
        "* We will not go into the mathematical details, but the least squares estimates $\\hat{\\beta}_0$ and $\\hat{\\beta}_1$ minimize the sum of the squared residuals $r_i = y_i - (\\beta_0 + \\beta_1 x_i)$ in the model (i.e. makes the difference between the observed $y_i$ and linear model $\\beta_0 + \\beta_1 x_i$ as small as possible). \n",
        "\n",
        "The solution can be written in compact matrix notation as\n",
        "\n",
        "$$\\hat\\beta =  (X^T X)^{-1}X^T Y$$ \n",
        "\n",
        "\n",
        "**Note**: The \"hat\" represents an estimatation of the coefficient.  "
      ]
    },
    {
      "cell_type": "markdown",
      "metadata": {
        "id": "dvU9Vi6Y7d-3"
      },
      "source": [
        "***\n",
        "# Part 2: Boston Housing Data Set\n",
        "\n",
        "The [Boston Housing data set](https://archive.ics.uci.edu/ml/datasets/Housing) contains information about the housing values in suburbs of Boston.  This dataset was originally taken from the StatLib library which is maintained at Carnegie Mellon University and is now available on the UCI Machine Learning Repository. \n",
        "* **Dataset attributes descritption**:\n",
        "        - **CRIM**     per capita crime rate by town\n",
        "        - ZN       proportion of residential land zoned for lots over 25,000 sq.ft.\n",
        "        - INDUS    proportion of non-retail business acres per town\n",
        "        - CHAS     Charles River dummy variable (= 1 if tract bounds river; 0 otherwise)\n",
        "        - NOX      nitric oxides concentration (parts per 10 million)\n",
        "        - RM       average number of rooms per dwelling\n",
        "        - AGE      proportion of owner-occupied units built prior to 1940\n",
        "        - DIS      weighted distances to five Boston employment centres\n",
        "        - RAD      index of accessibility to radial highways\n",
        "        - TAX      full-value property-tax rate per $10,000\n",
        "        - PTRATIO  pupil-teacher ratio by town\n",
        "        - B        1000(Bk - 0.63)^2 where Bk is the proportion of blacks by town\n",
        "        - LSTAT    % lower status of the population\n",
        "        - MEDV     Median value of owner-occupied homes in $1000's\n",
        " \n",
        "\n",
        "## Load the Boston Housing data.  "
      ]
    },
    {
      "cell_type": "code",
      "source": [
        "boston=pd.read_csv('/content/BostonHousing.csv')\n",
        "print (boston.shape)\n",
        "boston.head()"
      ],
      "metadata": {
        "colab": {
          "base_uri": "https://localhost:8080/",
          "height": 224
        },
        "id": "xX-rnTl0_FMl",
        "outputId": "7c4ad4df-047d-41a5-ddd2-68e877a5e08b"
      },
      "execution_count": 2,
      "outputs": [
        {
          "output_type": "stream",
          "name": "stdout",
          "text": [
            "(506, 14)\n"
          ]
        },
        {
          "output_type": "execute_result",
          "data": {
            "text/plain": [
              "      CRIM    ZN  INDUS  CHAS    NOX     RM   AGE     DIS  RAD  TAX  PTRATIO  \\\n",
              "0  0.00632  18.0   2.31     0  0.538  6.575  65.2  4.0900    1  296     15.3   \n",
              "1  0.02731   0.0   7.07     0  0.469  6.421  78.9  4.9671    2  242     17.8   \n",
              "2  0.02729   0.0   7.07     0  0.469  7.185  61.1  4.9671    2  242     17.8   \n",
              "3  0.03237   0.0   2.18     0  0.458  6.998  45.8  6.0622    3  222     18.7   \n",
              "4  0.06905   0.0   2.18     0  0.458  7.147  54.2  6.0622    3  222     18.7   \n",
              "\n",
              "        B  LSTAT  PRICE  \n",
              "0  396.90   4.98   24.0  \n",
              "1  396.90   9.14   21.6  \n",
              "2  392.83   4.03   34.7  \n",
              "3  394.63   2.94   33.4  \n",
              "4  396.90   5.33   36.2  "
            ],
            "text/html": [
              "\n",
              "  <div id=\"df-e455e127-7152-4dc7-a642-c77b51546bab\">\n",
              "    <div class=\"colab-df-container\">\n",
              "      <div>\n",
              "<style scoped>\n",
              "    .dataframe tbody tr th:only-of-type {\n",
              "        vertical-align: middle;\n",
              "    }\n",
              "\n",
              "    .dataframe tbody tr th {\n",
              "        vertical-align: top;\n",
              "    }\n",
              "\n",
              "    .dataframe thead th {\n",
              "        text-align: right;\n",
              "    }\n",
              "</style>\n",
              "<table border=\"1\" class=\"dataframe\">\n",
              "  <thead>\n",
              "    <tr style=\"text-align: right;\">\n",
              "      <th></th>\n",
              "      <th>CRIM</th>\n",
              "      <th>ZN</th>\n",
              "      <th>INDUS</th>\n",
              "      <th>CHAS</th>\n",
              "      <th>NOX</th>\n",
              "      <th>RM</th>\n",
              "      <th>AGE</th>\n",
              "      <th>DIS</th>\n",
              "      <th>RAD</th>\n",
              "      <th>TAX</th>\n",
              "      <th>PTRATIO</th>\n",
              "      <th>B</th>\n",
              "      <th>LSTAT</th>\n",
              "      <th>PRICE</th>\n",
              "    </tr>\n",
              "  </thead>\n",
              "  <tbody>\n",
              "    <tr>\n",
              "      <th>0</th>\n",
              "      <td>0.00632</td>\n",
              "      <td>18.0</td>\n",
              "      <td>2.31</td>\n",
              "      <td>0</td>\n",
              "      <td>0.538</td>\n",
              "      <td>6.575</td>\n",
              "      <td>65.2</td>\n",
              "      <td>4.0900</td>\n",
              "      <td>1</td>\n",
              "      <td>296</td>\n",
              "      <td>15.3</td>\n",
              "      <td>396.90</td>\n",
              "      <td>4.98</td>\n",
              "      <td>24.0</td>\n",
              "    </tr>\n",
              "    <tr>\n",
              "      <th>1</th>\n",
              "      <td>0.02731</td>\n",
              "      <td>0.0</td>\n",
              "      <td>7.07</td>\n",
              "      <td>0</td>\n",
              "      <td>0.469</td>\n",
              "      <td>6.421</td>\n",
              "      <td>78.9</td>\n",
              "      <td>4.9671</td>\n",
              "      <td>2</td>\n",
              "      <td>242</td>\n",
              "      <td>17.8</td>\n",
              "      <td>396.90</td>\n",
              "      <td>9.14</td>\n",
              "      <td>21.6</td>\n",
              "    </tr>\n",
              "    <tr>\n",
              "      <th>2</th>\n",
              "      <td>0.02729</td>\n",
              "      <td>0.0</td>\n",
              "      <td>7.07</td>\n",
              "      <td>0</td>\n",
              "      <td>0.469</td>\n",
              "      <td>7.185</td>\n",
              "      <td>61.1</td>\n",
              "      <td>4.9671</td>\n",
              "      <td>2</td>\n",
              "      <td>242</td>\n",
              "      <td>17.8</td>\n",
              "      <td>392.83</td>\n",
              "      <td>4.03</td>\n",
              "      <td>34.7</td>\n",
              "    </tr>\n",
              "    <tr>\n",
              "      <th>3</th>\n",
              "      <td>0.03237</td>\n",
              "      <td>0.0</td>\n",
              "      <td>2.18</td>\n",
              "      <td>0</td>\n",
              "      <td>0.458</td>\n",
              "      <td>6.998</td>\n",
              "      <td>45.8</td>\n",
              "      <td>6.0622</td>\n",
              "      <td>3</td>\n",
              "      <td>222</td>\n",
              "      <td>18.7</td>\n",
              "      <td>394.63</td>\n",
              "      <td>2.94</td>\n",
              "      <td>33.4</td>\n",
              "    </tr>\n",
              "    <tr>\n",
              "      <th>4</th>\n",
              "      <td>0.06905</td>\n",
              "      <td>0.0</td>\n",
              "      <td>2.18</td>\n",
              "      <td>0</td>\n",
              "      <td>0.458</td>\n",
              "      <td>7.147</td>\n",
              "      <td>54.2</td>\n",
              "      <td>6.0622</td>\n",
              "      <td>3</td>\n",
              "      <td>222</td>\n",
              "      <td>18.7</td>\n",
              "      <td>396.90</td>\n",
              "      <td>5.33</td>\n",
              "      <td>36.2</td>\n",
              "    </tr>\n",
              "  </tbody>\n",
              "</table>\n",
              "</div>\n",
              "      <button class=\"colab-df-convert\" onclick=\"convertToInteractive('df-e455e127-7152-4dc7-a642-c77b51546bab')\"\n",
              "              title=\"Convert this dataframe to an interactive table.\"\n",
              "              style=\"display:none;\">\n",
              "        \n",
              "  <svg xmlns=\"http://www.w3.org/2000/svg\" height=\"24px\"viewBox=\"0 0 24 24\"\n",
              "       width=\"24px\">\n",
              "    <path d=\"M0 0h24v24H0V0z\" fill=\"none\"/>\n",
              "    <path d=\"M18.56 5.44l.94 2.06.94-2.06 2.06-.94-2.06-.94-.94-2.06-.94 2.06-2.06.94zm-11 1L8.5 8.5l.94-2.06 2.06-.94-2.06-.94L8.5 2.5l-.94 2.06-2.06.94zm10 10l.94 2.06.94-2.06 2.06-.94-2.06-.94-.94-2.06-.94 2.06-2.06.94z\"/><path d=\"M17.41 7.96l-1.37-1.37c-.4-.4-.92-.59-1.43-.59-.52 0-1.04.2-1.43.59L10.3 9.45l-7.72 7.72c-.78.78-.78 2.05 0 2.83L4 21.41c.39.39.9.59 1.41.59.51 0 1.02-.2 1.41-.59l7.78-7.78 2.81-2.81c.8-.78.8-2.07 0-2.86zM5.41 20L4 18.59l7.72-7.72 1.47 1.35L5.41 20z\"/>\n",
              "  </svg>\n",
              "      </button>\n",
              "      \n",
              "  <style>\n",
              "    .colab-df-container {\n",
              "      display:flex;\n",
              "      flex-wrap:wrap;\n",
              "      gap: 12px;\n",
              "    }\n",
              "\n",
              "    .colab-df-convert {\n",
              "      background-color: #E8F0FE;\n",
              "      border: none;\n",
              "      border-radius: 50%;\n",
              "      cursor: pointer;\n",
              "      display: none;\n",
              "      fill: #1967D2;\n",
              "      height: 32px;\n",
              "      padding: 0 0 0 0;\n",
              "      width: 32px;\n",
              "    }\n",
              "\n",
              "    .colab-df-convert:hover {\n",
              "      background-color: #E2EBFA;\n",
              "      box-shadow: 0px 1px 2px rgba(60, 64, 67, 0.3), 0px 1px 3px 1px rgba(60, 64, 67, 0.15);\n",
              "      fill: #174EA6;\n",
              "    }\n",
              "\n",
              "    [theme=dark] .colab-df-convert {\n",
              "      background-color: #3B4455;\n",
              "      fill: #D2E3FC;\n",
              "    }\n",
              "\n",
              "    [theme=dark] .colab-df-convert:hover {\n",
              "      background-color: #434B5C;\n",
              "      box-shadow: 0px 1px 3px 1px rgba(0, 0, 0, 0.15);\n",
              "      filter: drop-shadow(0px 1px 2px rgba(0, 0, 0, 0.3));\n",
              "      fill: #FFFFFF;\n",
              "    }\n",
              "  </style>\n",
              "\n",
              "      <script>\n",
              "        const buttonEl =\n",
              "          document.querySelector('#df-e455e127-7152-4dc7-a642-c77b51546bab button.colab-df-convert');\n",
              "        buttonEl.style.display =\n",
              "          google.colab.kernel.accessAllowed ? 'block' : 'none';\n",
              "\n",
              "        async function convertToInteractive(key) {\n",
              "          const element = document.querySelector('#df-e455e127-7152-4dc7-a642-c77b51546bab');\n",
              "          const dataTable =\n",
              "            await google.colab.kernel.invokeFunction('convertToInteractive',\n",
              "                                                     [key], {});\n",
              "          if (!dataTable) return;\n",
              "\n",
              "          const docLinkHtml = 'Like what you see? Visit the ' +\n",
              "            '<a target=\"_blank\" href=https://colab.research.google.com/notebooks/data_table.ipynb>data table notebook</a>'\n",
              "            + ' to learn more about interactive tables.';\n",
              "          element.innerHTML = '';\n",
              "          dataTable['output_type'] = 'display_data';\n",
              "          await google.colab.output.renderOutput(dataTable, element);\n",
              "          const docLink = document.createElement('div');\n",
              "          docLink.innerHTML = docLinkHtml;\n",
              "          element.appendChild(docLink);\n",
              "        }\n",
              "      </script>\n",
              "    </div>\n",
              "  </div>\n",
              "  "
            ]
          },
          "metadata": {},
          "execution_count": 2
        }
      ]
    },
    {
      "cell_type": "markdown",
      "metadata": {
        "id": "-GdN5N-W7d-8"
      },
      "source": [
        "Now we have a pandas DataFrame called `bos` containing all the data we want to use to predict Boston Housing prices.  Let's create a variable called `PRICE` which will contain the prices. This information is contained in the `target` data. "
      ]
    },
    {
      "cell_type": "markdown",
      "metadata": {
        "id": "-Wa_H00o7d-9"
      },
      "source": [
        "## EDA and statistical summary\n",
        "***\n",
        "\n",
        "Let's explore this data set.  First we use `describe()` to get basic summary statistics for each of the columns. "
      ]
    },
    {
      "cell_type": "code",
      "execution_count": 3,
      "metadata": {
        "colab": {
          "base_uri": "https://localhost:8080/",
          "height": 364
        },
        "id": "VLlma6zv7d-9",
        "outputId": "e0fc594d-6525-4de1-b097-163759de47db"
      },
      "outputs": [
        {
          "output_type": "execute_result",
          "data": {
            "text/plain": [
              "             CRIM          ZN       INDUS        CHAS         NOX          RM  \\\n",
              "count  506.000000  506.000000  506.000000  506.000000  506.000000  506.000000   \n",
              "mean     3.613524   11.363636   11.136779    0.069170    0.554695    6.284634   \n",
              "std      8.601545   23.322453    6.860353    0.253994    0.115878    0.702617   \n",
              "min      0.006320    0.000000    0.460000    0.000000    0.385000    3.561000   \n",
              "25%      0.082045    0.000000    5.190000    0.000000    0.449000    5.885500   \n",
              "50%      0.256510    0.000000    9.690000    0.000000    0.538000    6.208500   \n",
              "75%      3.677083   12.500000   18.100000    0.000000    0.624000    6.623500   \n",
              "max     88.976200  100.000000   27.740000    1.000000    0.871000    8.780000   \n",
              "\n",
              "              AGE         DIS         RAD         TAX     PTRATIO           B  \\\n",
              "count  506.000000  506.000000  506.000000  506.000000  506.000000  506.000000   \n",
              "mean    68.574901    3.795043    9.549407  408.237154   18.455534  356.674032   \n",
              "std     28.148861    2.105710    8.707259  168.537116    2.164946   91.294864   \n",
              "min      2.900000    1.129600    1.000000  187.000000   12.600000    0.320000   \n",
              "25%     45.025000    2.100175    4.000000  279.000000   17.400000  375.377500   \n",
              "50%     77.500000    3.207450    5.000000  330.000000   19.050000  391.440000   \n",
              "75%     94.075000    5.188425   24.000000  666.000000   20.200000  396.225000   \n",
              "max    100.000000   12.126500   24.000000  711.000000   22.000000  396.900000   \n",
              "\n",
              "            LSTAT       PRICE  \n",
              "count  506.000000  506.000000  \n",
              "mean    12.653063   22.532806  \n",
              "std      7.141062    9.197104  \n",
              "min      1.730000    5.000000  \n",
              "25%      6.950000   17.025000  \n",
              "50%     11.360000   21.200000  \n",
              "75%     16.955000   25.000000  \n",
              "max     37.970000   50.000000  "
            ],
            "text/html": [
              "\n",
              "  <div id=\"df-7d21f44f-c8f2-49f7-b3e3-0a3988cc3161\">\n",
              "    <div class=\"colab-df-container\">\n",
              "      <div>\n",
              "<style scoped>\n",
              "    .dataframe tbody tr th:only-of-type {\n",
              "        vertical-align: middle;\n",
              "    }\n",
              "\n",
              "    .dataframe tbody tr th {\n",
              "        vertical-align: top;\n",
              "    }\n",
              "\n",
              "    .dataframe thead th {\n",
              "        text-align: right;\n",
              "    }\n",
              "</style>\n",
              "<table border=\"1\" class=\"dataframe\">\n",
              "  <thead>\n",
              "    <tr style=\"text-align: right;\">\n",
              "      <th></th>\n",
              "      <th>CRIM</th>\n",
              "      <th>ZN</th>\n",
              "      <th>INDUS</th>\n",
              "      <th>CHAS</th>\n",
              "      <th>NOX</th>\n",
              "      <th>RM</th>\n",
              "      <th>AGE</th>\n",
              "      <th>DIS</th>\n",
              "      <th>RAD</th>\n",
              "      <th>TAX</th>\n",
              "      <th>PTRATIO</th>\n",
              "      <th>B</th>\n",
              "      <th>LSTAT</th>\n",
              "      <th>PRICE</th>\n",
              "    </tr>\n",
              "  </thead>\n",
              "  <tbody>\n",
              "    <tr>\n",
              "      <th>count</th>\n",
              "      <td>506.000000</td>\n",
              "      <td>506.000000</td>\n",
              "      <td>506.000000</td>\n",
              "      <td>506.000000</td>\n",
              "      <td>506.000000</td>\n",
              "      <td>506.000000</td>\n",
              "      <td>506.000000</td>\n",
              "      <td>506.000000</td>\n",
              "      <td>506.000000</td>\n",
              "      <td>506.000000</td>\n",
              "      <td>506.000000</td>\n",
              "      <td>506.000000</td>\n",
              "      <td>506.000000</td>\n",
              "      <td>506.000000</td>\n",
              "    </tr>\n",
              "    <tr>\n",
              "      <th>mean</th>\n",
              "      <td>3.613524</td>\n",
              "      <td>11.363636</td>\n",
              "      <td>11.136779</td>\n",
              "      <td>0.069170</td>\n",
              "      <td>0.554695</td>\n",
              "      <td>6.284634</td>\n",
              "      <td>68.574901</td>\n",
              "      <td>3.795043</td>\n",
              "      <td>9.549407</td>\n",
              "      <td>408.237154</td>\n",
              "      <td>18.455534</td>\n",
              "      <td>356.674032</td>\n",
              "      <td>12.653063</td>\n",
              "      <td>22.532806</td>\n",
              "    </tr>\n",
              "    <tr>\n",
              "      <th>std</th>\n",
              "      <td>8.601545</td>\n",
              "      <td>23.322453</td>\n",
              "      <td>6.860353</td>\n",
              "      <td>0.253994</td>\n",
              "      <td>0.115878</td>\n",
              "      <td>0.702617</td>\n",
              "      <td>28.148861</td>\n",
              "      <td>2.105710</td>\n",
              "      <td>8.707259</td>\n",
              "      <td>168.537116</td>\n",
              "      <td>2.164946</td>\n",
              "      <td>91.294864</td>\n",
              "      <td>7.141062</td>\n",
              "      <td>9.197104</td>\n",
              "    </tr>\n",
              "    <tr>\n",
              "      <th>min</th>\n",
              "      <td>0.006320</td>\n",
              "      <td>0.000000</td>\n",
              "      <td>0.460000</td>\n",
              "      <td>0.000000</td>\n",
              "      <td>0.385000</td>\n",
              "      <td>3.561000</td>\n",
              "      <td>2.900000</td>\n",
              "      <td>1.129600</td>\n",
              "      <td>1.000000</td>\n",
              "      <td>187.000000</td>\n",
              "      <td>12.600000</td>\n",
              "      <td>0.320000</td>\n",
              "      <td>1.730000</td>\n",
              "      <td>5.000000</td>\n",
              "    </tr>\n",
              "    <tr>\n",
              "      <th>25%</th>\n",
              "      <td>0.082045</td>\n",
              "      <td>0.000000</td>\n",
              "      <td>5.190000</td>\n",
              "      <td>0.000000</td>\n",
              "      <td>0.449000</td>\n",
              "      <td>5.885500</td>\n",
              "      <td>45.025000</td>\n",
              "      <td>2.100175</td>\n",
              "      <td>4.000000</td>\n",
              "      <td>279.000000</td>\n",
              "      <td>17.400000</td>\n",
              "      <td>375.377500</td>\n",
              "      <td>6.950000</td>\n",
              "      <td>17.025000</td>\n",
              "    </tr>\n",
              "    <tr>\n",
              "      <th>50%</th>\n",
              "      <td>0.256510</td>\n",
              "      <td>0.000000</td>\n",
              "      <td>9.690000</td>\n",
              "      <td>0.000000</td>\n",
              "      <td>0.538000</td>\n",
              "      <td>6.208500</td>\n",
              "      <td>77.500000</td>\n",
              "      <td>3.207450</td>\n",
              "      <td>5.000000</td>\n",
              "      <td>330.000000</td>\n",
              "      <td>19.050000</td>\n",
              "      <td>391.440000</td>\n",
              "      <td>11.360000</td>\n",
              "      <td>21.200000</td>\n",
              "    </tr>\n",
              "    <tr>\n",
              "      <th>75%</th>\n",
              "      <td>3.677083</td>\n",
              "      <td>12.500000</td>\n",
              "      <td>18.100000</td>\n",
              "      <td>0.000000</td>\n",
              "      <td>0.624000</td>\n",
              "      <td>6.623500</td>\n",
              "      <td>94.075000</td>\n",
              "      <td>5.188425</td>\n",
              "      <td>24.000000</td>\n",
              "      <td>666.000000</td>\n",
              "      <td>20.200000</td>\n",
              "      <td>396.225000</td>\n",
              "      <td>16.955000</td>\n",
              "      <td>25.000000</td>\n",
              "    </tr>\n",
              "    <tr>\n",
              "      <th>max</th>\n",
              "      <td>88.976200</td>\n",
              "      <td>100.000000</td>\n",
              "      <td>27.740000</td>\n",
              "      <td>1.000000</td>\n",
              "      <td>0.871000</td>\n",
              "      <td>8.780000</td>\n",
              "      <td>100.000000</td>\n",
              "      <td>12.126500</td>\n",
              "      <td>24.000000</td>\n",
              "      <td>711.000000</td>\n",
              "      <td>22.000000</td>\n",
              "      <td>396.900000</td>\n",
              "      <td>37.970000</td>\n",
              "      <td>50.000000</td>\n",
              "    </tr>\n",
              "  </tbody>\n",
              "</table>\n",
              "</div>\n",
              "      <button class=\"colab-df-convert\" onclick=\"convertToInteractive('df-7d21f44f-c8f2-49f7-b3e3-0a3988cc3161')\"\n",
              "              title=\"Convert this dataframe to an interactive table.\"\n",
              "              style=\"display:none;\">\n",
              "        \n",
              "  <svg xmlns=\"http://www.w3.org/2000/svg\" height=\"24px\"viewBox=\"0 0 24 24\"\n",
              "       width=\"24px\">\n",
              "    <path d=\"M0 0h24v24H0V0z\" fill=\"none\"/>\n",
              "    <path d=\"M18.56 5.44l.94 2.06.94-2.06 2.06-.94-2.06-.94-.94-2.06-.94 2.06-2.06.94zm-11 1L8.5 8.5l.94-2.06 2.06-.94-2.06-.94L8.5 2.5l-.94 2.06-2.06.94zm10 10l.94 2.06.94-2.06 2.06-.94-2.06-.94-.94-2.06-.94 2.06-2.06.94z\"/><path d=\"M17.41 7.96l-1.37-1.37c-.4-.4-.92-.59-1.43-.59-.52 0-1.04.2-1.43.59L10.3 9.45l-7.72 7.72c-.78.78-.78 2.05 0 2.83L4 21.41c.39.39.9.59 1.41.59.51 0 1.02-.2 1.41-.59l7.78-7.78 2.81-2.81c.8-.78.8-2.07 0-2.86zM5.41 20L4 18.59l7.72-7.72 1.47 1.35L5.41 20z\"/>\n",
              "  </svg>\n",
              "      </button>\n",
              "      \n",
              "  <style>\n",
              "    .colab-df-container {\n",
              "      display:flex;\n",
              "      flex-wrap:wrap;\n",
              "      gap: 12px;\n",
              "    }\n",
              "\n",
              "    .colab-df-convert {\n",
              "      background-color: #E8F0FE;\n",
              "      border: none;\n",
              "      border-radius: 50%;\n",
              "      cursor: pointer;\n",
              "      display: none;\n",
              "      fill: #1967D2;\n",
              "      height: 32px;\n",
              "      padding: 0 0 0 0;\n",
              "      width: 32px;\n",
              "    }\n",
              "\n",
              "    .colab-df-convert:hover {\n",
              "      background-color: #E2EBFA;\n",
              "      box-shadow: 0px 1px 2px rgba(60, 64, 67, 0.3), 0px 1px 3px 1px rgba(60, 64, 67, 0.15);\n",
              "      fill: #174EA6;\n",
              "    }\n",
              "\n",
              "    [theme=dark] .colab-df-convert {\n",
              "      background-color: #3B4455;\n",
              "      fill: #D2E3FC;\n",
              "    }\n",
              "\n",
              "    [theme=dark] .colab-df-convert:hover {\n",
              "      background-color: #434B5C;\n",
              "      box-shadow: 0px 1px 3px 1px rgba(0, 0, 0, 0.15);\n",
              "      filter: drop-shadow(0px 1px 2px rgba(0, 0, 0, 0.3));\n",
              "      fill: #FFFFFF;\n",
              "    }\n",
              "  </style>\n",
              "\n",
              "      <script>\n",
              "        const buttonEl =\n",
              "          document.querySelector('#df-7d21f44f-c8f2-49f7-b3e3-0a3988cc3161 button.colab-df-convert');\n",
              "        buttonEl.style.display =\n",
              "          google.colab.kernel.accessAllowed ? 'block' : 'none';\n",
              "\n",
              "        async function convertToInteractive(key) {\n",
              "          const element = document.querySelector('#df-7d21f44f-c8f2-49f7-b3e3-0a3988cc3161');\n",
              "          const dataTable =\n",
              "            await google.colab.kernel.invokeFunction('convertToInteractive',\n",
              "                                                     [key], {});\n",
              "          if (!dataTable) return;\n",
              "\n",
              "          const docLinkHtml = 'Like what you see? Visit the ' +\n",
              "            '<a target=\"_blank\" href=https://colab.research.google.com/notebooks/data_table.ipynb>data table notebook</a>'\n",
              "            + ' to learn more about interactive tables.';\n",
              "          element.innerHTML = '';\n",
              "          dataTable['output_type'] = 'display_data';\n",
              "          await google.colab.output.renderOutput(dataTable, element);\n",
              "          const docLink = document.createElement('div');\n",
              "          docLink.innerHTML = docLinkHtml;\n",
              "          element.appendChild(docLink);\n",
              "        }\n",
              "      </script>\n",
              "    </div>\n",
              "  </div>\n",
              "  "
            ]
          },
          "metadata": {},
          "execution_count": 3
        }
      ],
      "source": [
        "boston.describe()"
      ]
    },
    {
      "cell_type": "markdown",
      "metadata": {
        "id": "-rQz6-227d--"
      },
      "source": [
        "### Scatter plots\n",
        "***\n",
        "\n",
        "Some scatter plots for three variables: 'CRIM', 'RM' and 'PTRATIO'. \n",
        "\n"
      ]
    },
    {
      "cell_type": "code",
      "execution_count": 4,
      "metadata": {
        "id": "NmM4WeGo7d-_",
        "outputId": "8f16328a-0510-4843-c8a8-efc1993c8d53",
        "colab": {
          "base_uri": "https://localhost:8080/",
          "height": 345
        }
      },
      "outputs": [
        {
          "output_type": "execute_result",
          "data": {
            "text/plain": [
              "Text(0.5, 1.0, 'Relationship between RM and Price')"
            ]
          },
          "metadata": {},
          "execution_count": 4
        },
        {
          "output_type": "display_data",
          "data": {
            "text/plain": [
              "<Figure size 432x288 with 1 Axes>"
            ],
            "image/png": "[encoded data removed]"
          },
          "metadata": {}
        }
      ],
      "source": [
        "#your turn: scatter plot between *RM* and *PRICE*\n",
        "\n",
        "plt.scatter(boston.RM, boston.PRICE,color='red')\n",
        "plt.xlabel(\"Average number of rooms per dwelling(RM)\",fontsize=20)\n",
        "plt.ylabel(\"Housing Price\",fontsize=20)\n",
        "plt.title(\"Relationship between RM and Price\",fontsize=20)\n",
        "\n",
        "#Positive Linear relation: Increase of RM causes Housing price to increase."
      ]
    },
    {
      "cell_type": "markdown",
      "source": [
        "# Histogram plot"
      ],
      "metadata": {
        "id": "xmrMT--G18XJ"
      }
    },
    {
      "cell_type": "markdown",
      "metadata": {
        "id": "9q85UF-L7d_C"
      },
      "source": [
        "Histograms are a useful way to visually summarize the statistical properties of numeric variables. They can give you an idea of the mean and the spread of the variables as well as outliers."
      ]
    },
    {
      "cell_type": "code",
      "execution_count": 5,
      "metadata": {
        "colab": {
          "base_uri": "https://localhost:8080/",
          "height": 328
        },
        "id": "AhxK-Hkl7d_C",
        "outputId": "20536160-4039-4dd8-fdce-622f6d3c3faf"
      },
      "outputs": [
        {
          "output_type": "display_data",
          "data": {
            "text/plain": [
              "<Figure size 432x288 with 1 Axes>"
            ],
            "image/png": "[encoded data removed]"
          },
          "metadata": {}
        }
      ],
      "source": [
        "plt.hist(boston.CRIM)\n",
        "plt.title(\"CRIM\",fontsize=20)\n",
        "plt.xlabel(\"Crime rate per capita\",fontsize=20)\n",
        "plt.ylabel(\"Frequency\",fontsize=20)\n",
        "plt.show()"
      ]
    },
    {
      "cell_type": "markdown",
      "metadata": {
        "id": "h4KZ-HMR7d_E"
      },
      "source": [
        "## Linear regression with  Boston housing data example\n",
        "***\n",
        "\n",
        "Here, \n",
        "\n",
        "$Y$ = boston housing prices (also called \"target\" data in python)\n",
        "\n",
        "and\n",
        "\n",
        "$X$ = all the other features (or independent variables)\n",
        "\n",
        "which we will use to fit a linear regression model and predict Boston housing prices. We will use the least squares method as the way to estimate the coefficients.  "
      ]
    },
    {
      "cell_type": "markdown",
      "metadata": {
        "id": "CPvdqZ5d7d_E"
      },
      "source": [
        "We'll use two ways of fitting a linear regression. We recommend the first but the second is also powerful in its features."
      ]
    },
    {
      "cell_type": "markdown",
      "metadata": {
        "id": "lySTNzLP7d_H"
      },
      "source": [
        "### Fitting Linear Regression using `sklearn`\n"
      ]
    },
    {
      "cell_type": "code",
      "execution_count": 6,
      "metadata": {
        "colab": {
          "base_uri": "https://localhost:8080/"
        },
        "id": "DKEgS5bE7d_H",
        "outputId": "fcbac1eb-b95c-4cd5-da5f-e63bfbc780c1"
      },
      "outputs": [
        {
          "output_type": "stream",
          "name": "stdout",
          "text": [
            "0      24.0\n",
            "1      21.6\n",
            "2      34.7\n",
            "3      33.4\n",
            "4      36.2\n",
            "       ... \n",
            "501    22.4\n",
            "502    20.6\n",
            "503    23.9\n",
            "504    22.0\n",
            "505    11.9\n",
            "Name: PRICE, Length: 506, dtype: float64\n"
          ]
        }
      ],
      "source": [
        "from sklearn.linear_model import LinearRegression\n",
        "X = boston.drop('PRICE', axis = 1)\n",
        "\n",
        "Y=boston.PRICE\n",
        "print (Y)\n",
        "\n",
        "# This creates a LinearRegression object\n",
        "lm = LinearRegression()"
      ]
    },
    {
      "cell_type": "markdown",
      "metadata": {
        "id": "TlDuIG7U7d_J"
      },
      "source": [
        "### Fit a linear model\n",
        "***\n",
        "\n",
        "The `lm.fit()` function estimates the coefficients the linear regression using least squares. "
      ]
    },
    {
      "cell_type": "code",
      "execution_count": 7,
      "metadata": {
        "colab": {
          "base_uri": "https://localhost:8080/"
        },
        "id": "YgXYfAhK7d_J",
        "outputId": "3c1be8e5-4a28-46a1-be42-bc48b389b8d2"
      },
      "outputs": [
        {
          "output_type": "execute_result",
          "data": {
            "text/plain": [
              "LinearRegression()"
            ]
          },
          "metadata": {},
          "execution_count": 7
        }
      ],
      "source": [
        "# Use all 13 predictors to fit linear regression model\n",
        "lm.fit(X, Y)"
      ]
    },
    {
      "cell_type": "markdown",
      "metadata": {
        "id": "TSj4ZSWS7d_J"
      },
      "source": [
        "**Your turn:** How would you change the model to not fit an intercept term? Would you recommend not having an intercept?\n"
      ]
    },
    {
      "cell_type": "markdown",
      "metadata": {
        "id": "gKB3-vIu7d_K"
      },
      "source": [
        "### Estimated intercept and coefficients\n",
        "\n",
        "Let's look at the estimated coefficients from the linear model using `1m.intercept_` and `lm.coef_`.  \n",
        "\n"
      ]
    },
    {
      "cell_type": "code",
      "execution_count": 8,
      "metadata": {
        "colab": {
          "base_uri": "https://localhost:8080/"
        },
        "id": "s5qewQiW7d_K",
        "outputId": "3be5e291-bd64-49f7-b5bd-709b2c0ae161"
      },
      "outputs": [
        {
          "output_type": "stream",
          "name": "stdout",
          "text": [
            "Estimated intercept coefficient: 36.45948838508978\n"
          ]
        }
      ],
      "source": [
        "print ('Estimated intercept coefficient:', lm.intercept_)"
      ]
    },
    {
      "cell_type": "code",
      "execution_count": 9,
      "metadata": {
        "colab": {
          "base_uri": "https://localhost:8080/"
        },
        "id": "5yuyZ-UW7d_K",
        "outputId": "436f1090-9a19-46ab-bfe8-20039adde215"
      },
      "outputs": [
        {
          "output_type": "stream",
          "name": "stdout",
          "text": [
            "Number of coefficients: 13\n"
          ]
        }
      ],
      "source": [
        "print ('Number of coefficients:', len(lm.coef_))"
      ]
    },
    {
      "cell_type": "code",
      "source": [
        "lm.coef_"
      ],
      "metadata": {
        "colab": {
          "base_uri": "https://localhost:8080/"
        },
        "id": "xCY37D3U9sEa",
        "outputId": "cdbd0dd4-d572-4c3f-81e3-3baabd1f5bfe"
      },
      "execution_count": 10,
      "outputs": [
        {
          "output_type": "execute_result",
          "data": {
            "text/plain": [
              "array([-1.08011358e-01,  4.64204584e-02,  2.05586264e-02,  2.68673382e+00,\n",
              "       -1.77666112e+01,  3.80986521e+00,  6.92224640e-04, -1.47556685e+00,\n",
              "        3.06049479e-01, -1.23345939e-02, -9.52747232e-01,  9.31168327e-03,\n",
              "       -5.24758378e-01])"
            ]
          },
          "metadata": {},
          "execution_count": 10
        }
      ]
    },
    {
      "cell_type": "markdown",
      "metadata": {
        "id": "dbfm9arP7d_L"
      },
      "source": [
        "### Predict Prices \n",
        "\n",
        "We can calculate the predicted prices ($\\hat{Y}_i$) using `lm.predict`. \n",
        "\n",
        "$$ \\hat{Y}_i = \\hat{\\beta}_0 + \\hat{\\beta}_1 X_1 + \\ldots \\hat{\\beta}_{13} X_{13} $$"
      ]
    },
    {
      "cell_type": "markdown",
      "source": [
        "# Predicted values"
      ],
      "metadata": {
        "id": "V23hUswn8ec6"
      }
    },
    {
      "cell_type": "code",
      "source": [
        "predicted=lm.predict(X)\n",
        "print (predicted)"
      ],
      "metadata": {
        "colab": {
          "base_uri": "https://localhost:8080/"
        },
        "id": "353T1MJi8h6y",
        "outputId": "496bf7aa-7bce-4900-ab61-466a067dcf1b"
      },
      "execution_count": 12,
      "outputs": [
        {
          "output_type": "stream",
          "name": "stdout",
          "text": [
            "[30.00384338 25.02556238 30.56759672 28.60703649 27.94352423 25.25628446\n",
            " 23.00180827 19.53598843 11.52363685 18.92026211 18.99949651 21.58679568\n",
            " 20.90652153 19.55290281 19.28348205 19.29748321 20.52750979 16.91140135\n",
            " 16.17801106 18.40613603 12.52385753 17.67103669 15.83288129 13.80628535\n",
            " 15.67833832 13.38668561 15.46397655 14.70847428 19.54737285 20.8764282\n",
            " 11.45511759 18.05923295  8.81105736 14.28275814 13.70675891 23.81463526\n",
            " 22.34193708 23.10891142 22.91502612 31.35762569 34.21510225 28.02056414\n",
            " 25.20386628 24.60979273 22.94149176 22.09669817 20.42320032 18.03655088\n",
            "  9.10655377 17.20607751 21.28152535 23.97222285 27.6558508  24.04901809\n",
            " 15.3618477  31.15264947 24.85686978 33.10919806 21.77537987 21.08493555\n",
            " 17.8725804  18.51110208 23.98742856 22.55408869 23.37308644 30.36148358\n",
            " 25.53056512 21.11338564 17.42153786 20.78483633 25.20148859 21.7426577\n",
            " 24.55744957 24.04295712 25.50499716 23.9669302  22.94545403 23.35699818\n",
            " 21.26198266 22.42817373 28.40576968 26.99486086 26.03576297 25.05873482\n",
            " 24.78456674 27.79049195 22.16853423 25.89276415 30.67461827 30.83110623\n",
            " 27.1190194  27.41266734 28.94122762 29.08105546 27.03977365 28.62459949\n",
            " 24.72744978 35.78159518 35.11454587 32.25102801 24.58022019 25.59413475\n",
            " 19.79013684 20.31167129 21.43482591 18.53994008 17.18755992 20.75049026\n",
            " 22.64829115 19.7720367  20.64965864 26.52586744 20.77323638 20.71548315\n",
            " 25.17208881 20.43025591 23.37724626 23.69043261 20.33578364 20.79180873\n",
            " 21.91632071 22.47107777 20.55738556 16.36661977 20.56099819 22.48178446\n",
            " 14.61706633 15.17876684 18.93868592 14.05573285 20.03527399 19.41013402\n",
            " 20.06191566 15.75807673 13.25645238 17.26277735 15.87841883 19.36163954\n",
            " 13.81483897 16.44881475 13.57141932  3.98885508 14.59495478 12.1488148\n",
            "  8.72822362 12.03585343 15.82082058  8.5149902   9.71844139 14.80451374\n",
            " 20.83858153 18.30101169 20.12282558 17.28601894 22.36600228 20.10375923\n",
            " 13.62125891 33.25982697 29.03017268 25.56752769 32.70827666 36.77467015\n",
            " 40.55765844 41.84728168 24.78867379 25.37889238 37.20347455 23.08748747\n",
            " 26.40273955 26.65382114 22.5551466  24.29082812 22.97657219 29.07194308\n",
            " 26.5219434  30.72209056 25.61669307 29.13740979 31.43571968 32.92231568\n",
            " 34.72440464 27.76552111 33.88787321 30.99238036 22.71820008 24.7664781\n",
            " 35.88497226 33.42476722 32.41199147 34.51509949 30.76109485 30.28934141\n",
            " 32.91918714 32.11260771 31.55871004 40.84555721 36.12770079 32.6692081\n",
            " 34.70469116 30.09345162 30.64393906 29.28719501 37.07148392 42.03193124\n",
            " 43.18949844 22.69034796 23.68284712 17.85447214 23.49428992 17.00587718\n",
            " 22.39251096 17.06042754 22.73892921 25.21942554 11.11916737 24.51049148\n",
            " 26.60334775 28.35518713 24.91525464 29.68652768 33.18419746 23.77456656\n",
            " 32.14051958 29.7458199  38.37102453 39.81461867 37.58605755 32.3995325\n",
            " 35.45665242 31.23411512 24.48449227 33.28837292 38.0481048  37.16328631\n",
            " 31.71383523 25.26705571 30.10010745 32.71987156 28.42717057 28.42940678\n",
            " 27.29375938 23.74262478 24.12007891 27.40208414 16.3285756  13.39891261\n",
            " 20.01638775 19.86184428 21.2883131  24.0798915  24.20633547 25.04215821\n",
            " 24.91964007 29.94563374 23.97228316 21.69580887 37.51109239 43.30239043\n",
            " 36.48361421 34.98988594 34.81211508 37.16631331 40.98928501 34.44634089\n",
            " 35.83397547 28.245743   31.22673593 40.8395575  39.31792393 25.70817905\n",
            " 22.30295533 27.20340972 28.51169472 35.47676598 36.10639164 33.79668274\n",
            " 35.61085858 34.83993382 30.35192656 35.30980701 38.79756966 34.33123186\n",
            " 40.33963075 44.67308339 31.59689086 27.3565923  20.10174154 27.04206674\n",
            " 27.2136458  26.91395839 33.43563311 34.40349633 31.8333982  25.81783237\n",
            " 24.42982348 28.45764337 27.36266999 19.53928758 29.11309844 31.91054611\n",
            " 30.77159449 28.94275871 28.88191022 32.79887232 33.20905456 30.76831792\n",
            " 35.56226857 32.70905124 28.64244237 23.58965827 18.54266897 26.87889843\n",
            " 23.28133979 25.54580246 25.48120057 20.53909901 17.61572573 18.37581686\n",
            " 24.29070277 21.32529039 24.88682244 24.86937282 22.86952447 19.45123791\n",
            " 25.11783401 24.66786913 23.68076177 19.34089616 21.17418105 24.25249073\n",
            " 21.59260894 19.98446605 23.33888    22.14060692 21.55509929 20.61872907\n",
            " 20.16097176 19.28490387 22.1667232  21.24965774 21.42939305 30.32788796\n",
            " 22.04734975 27.70647912 28.54794117 16.54501121 14.78359641 25.27380082\n",
            " 27.54205117 22.14837562 20.45944095 20.54605423 16.88063827 25.40253506\n",
            " 14.32486632 16.59488462 19.63704691 22.71806607 22.20218887 19.20548057\n",
            " 22.66616105 18.93192618 18.22846804 20.23150811 37.4944739  14.28190734\n",
            " 15.54286248 10.83162324 23.80072902 32.6440736  34.60684042 24.94331333\n",
            " 25.9998091   6.126325    0.77779806 25.30713064 17.74061065 20.23274414\n",
            " 15.83331301 16.83512587 14.36994825 18.47682833 13.4276828  13.06177512\n",
            "  3.27918116  8.06022171  6.12842196  5.6186481   6.4519857  14.20764735\n",
            " 17.21225183 17.29887265  9.89116643 20.22124193 17.94181175 20.30445783\n",
            " 19.29559075 16.33632779  6.55162319 10.89016778 11.88145871 17.81174507\n",
            " 18.26126587 12.97948781  7.37816361  8.21115861  8.06626193 19.98294786\n",
            " 13.70756369 19.85268454 15.22308298 16.96071981  1.71851807 11.80578387\n",
            " -4.28131071  9.58376737 13.36660811  6.89562363  6.14779852 14.60661794\n",
            " 19.6000267  18.12427476 18.52177132 13.1752861  14.62617624  9.92374976\n",
            " 16.34590647 14.07519426 14.25756243 13.04234787 18.15955693 18.69554354\n",
            " 21.527283   17.03141861 15.96090435 13.36141611 14.52079384  8.81976005\n",
            "  4.86751102 13.06591313 12.70609699 17.29558059 18.740485   18.05901029\n",
            " 11.51474683 11.97400359 17.68344618 18.12695239 17.5183465  17.22742507\n",
            " 16.52271631 19.41291095 18.58215236 22.48944791 15.28000133 15.82089335\n",
            " 12.68725581 12.8763379  17.18668531 18.51247609 19.04860533 20.17208927\n",
            " 19.7740732  22.42940768 20.31911854 17.88616253 14.37478523 16.94776851\n",
            " 16.98405762 18.58838397 20.16719441 22.97718032 22.45580726 25.57824627\n",
            " 16.39147632 16.1114628  20.534816   11.54272738 19.20496304 21.86276391\n",
            " 23.46878866 27.09887315 28.56994302 21.08398783 19.45516196 22.22225914\n",
            " 19.65591961 21.32536104 11.85583717  8.22386687  3.66399672 13.75908538\n",
            " 15.93118545 20.62662054 20.61249414 16.88541964 14.01320787 19.10854144\n",
            " 21.29805174 18.45498841 20.46870847 23.53334055 22.37571892 27.6274261\n",
            " 26.12796681 22.34421229]\n"
          ]
        }
      ]
    },
    {
      "cell_type": "markdown",
      "source": [
        "# Model visualization"
      ],
      "metadata": {
        "id": "I-6p-vbKawcT"
      }
    },
    {
      "cell_type": "code",
      "source": [
        "sns.regplot(x=predicted, y=boston['PRICE'], data=boston, fit_reg=True,color='blue',scatter_kws={'s':20})"
      ],
      "metadata": {
        "colab": {
          "base_uri": "https://localhost:8080/",
          "height": 301
        },
        "id": "RXZ3FxSOZWJa",
        "outputId": "0bdb2a45-6ef1-4341-f77f-661235f40a91"
      },
      "execution_count": 13,
      "outputs": [
        {
          "output_type": "execute_result",
          "data": {
            "text/plain": [
              "<matplotlib.axes._subplots.AxesSubplot at 0x7fc514543950>"
            ]
          },
          "metadata": {},
          "execution_count": 13
        },
        {
          "output_type": "display_data",
          "data": {
            "text/plain": [
              "<Figure size 432x288 with 1 Axes>"
            ],
            "image/png": "[encoded data removed]"
          },
          "metadata": {}
        }
      ]
    },
    {
      "cell_type": "markdown",
      "source": [
        "# Try to fit a linear regression model uaing PTRATIO and housing price"
      ],
      "metadata": {
        "id": "J1Sn4bVmfLal"
      }
    },
    {
      "cell_type": "code",
      "source": [
        "lm1 = LinearRegression()\n",
        "lm1.fit(X[['CRIM',]], boston.PRICE)"
      ],
      "metadata": {
        "colab": {
          "base_uri": "https://localhost:8080/"
        },
        "id": "w0ioSqXMdCVU",
        "outputId": "237a2431-a361-4861-fd65-3a114e183c5e"
      },
      "execution_count": 28,
      "outputs": [
        {
          "output_type": "execute_result",
          "data": {
            "text/plain": [
              "LinearRegression()"
            ]
          },
          "metadata": {},
          "execution_count": 28
        }
      ]
    },
    {
      "cell_type": "code",
      "source": [
        "sns.scatterplot(x=boston.CRIM, y=boston.PRICE, data=boston)\n",
        "#sns.scatterplot(x=boston.PTRATIO, y=predicted, data=boston)\n",
        "#sns.scatterplot(x=boston.PIRATIO, y=predicted, data=boston)\n",
        "#sns.lineplot(x='alcohol', y='pred_lr', data=df_crashes, color='orange');\n",
        "\n",
        "plt.plot(boston.CRIM, lm1.predict(X[['CRIM']]), color='green', linewidth=3)"
      ],
      "metadata": {
        "colab": {
          "base_uri": "https://localhost:8080/",
          "height": 329
        },
        "id": "QYfxFnWqazwa",
        "outputId": "f7265587-07ec-4210-ff15-e26a1841f2cc"
      },
      "execution_count": 29,
      "outputs": [
        {
          "output_type": "execute_result",
          "data": {
            "text/plain": [
              "[<matplotlib.lines.Line2D at 0x7fc51374d990>]"
            ]
          },
          "metadata": {},
          "execution_count": 29
        },
        {
          "output_type": "display_data",
          "data": {
            "text/plain": [
              "<Figure size 432x288 with 1 Axes>"
            ],
            "image/png": "[encoded data removed]"
          },
          "metadata": {}
        }
      ]
    },
    {
      "cell_type": "markdown",
      "metadata": {
        "id": "G4iYFwuE7d_M"
      },
      "source": [
        ""
      ]
    },
    {
      "cell_type": "markdown",
      "metadata": {
        "id": "1tgtQ2G77d_Q"
      },
      "source": [
        "# Part 3: Model build by training and Test Data set splitting \n",
        "\n",
        "### Purpose of splitting data into Training/testing sets\n",
        "***\n",
        "<p> Let's stick to the linear regression example: </p>\n",
        "<ul>\n",
        "  <li> We built our model with the requirement that the model fit the data well. </li>\n",
        "  <li> As a side-effect, the model will fit <b>THIS</b> dataset well. What about new data? </li>\n",
        "    <ul>\n",
        "      <li> We wanted the model for predictions, right?</li>\n",
        "    </ul>\n",
        "  <li> One simple solution, leave out some data (for <b>testing</b>) and <b>train</b> the model on the rest </li>\n",
        "  <li> This also leads directly to the idea of cross-validation, next section. </li>  \n",
        "</ul>\n",
        "</div>\n",
        "\n",
        "***\n",
        "\n",
        "One way of doing this is you can create training and testing data sets manually. "
      ]
    },
    {
      "cell_type": "markdown",
      "metadata": {
        "id": "PbWwzUbb7d_R"
      },
      "source": [
        "Another way, is to split the data into random train and test subsets using the function `train_test_split` in `sklearn.cross_validation`. "
      ]
    },
    {
      "cell_type": "code",
      "execution_count": 22,
      "metadata": {
        "colab": {
          "base_uri": "https://localhost:8080/"
        },
        "id": "UicActxF7d_R",
        "outputId": "c0ce6de6-d9b0-4582-c21e-5c04edf888c5"
      },
      "outputs": [
        {
          "output_type": "stream",
          "name": "stdout",
          "text": [
            "(404, 13)\n",
            "(102, 13)\n",
            "(404,)\n",
            "(102,)\n"
          ]
        }
      ],
      "source": [
        "X_train, X_test, Y_train, Y_test = sklearn.model_selection.train_test_split(\n",
        "    X, Y, test_size=0.20, random_state = 5)\n",
        "print (X_train.shape)\n",
        "print (X_test.shape)\n",
        "print (Y_train.shape)\n",
        "print (Y_test.shape)"
      ]
    },
    {
      "cell_type": "code",
      "source": [
        "print (Y_test)"
      ],
      "metadata": {
        "colab": {
          "base_uri": "https://localhost:8080/"
        },
        "id": "_USPQKinXMdI",
        "outputId": "57b8fe67-1e6a-4459-81d3-c7e7deefdff6"
      },
      "execution_count": 32,
      "outputs": [
        {
          "output_type": "stream",
          "name": "stdout",
          "text": [
            "226    37.6\n",
            "292    27.9\n",
            "90     22.6\n",
            "373    13.8\n",
            "273    35.2\n",
            "       ... \n",
            "349    26.6\n",
            "212    22.4\n",
            "156    13.1\n",
            "480    23.0\n",
            "248    24.5\n",
            "Name: PRICE, Length: 102, dtype: float64\n"
          ]
        }
      ]
    },
    {
      "cell_type": "markdown",
      "metadata": {
        "id": "o9WbYSLG7d_R"
      },
      "source": [
        "Let's build a linear regression model using our new training data sets. \n",
        "\n",
        "* Fit a linear regression model to the training set\n",
        "* Predict the output on the test set"
      ]
    },
    {
      "cell_type": "code",
      "execution_count": 23,
      "metadata": {
        "colab": {
          "base_uri": "https://localhost:8080/"
        },
        "id": "txMcXRw17d_S",
        "outputId": "3da1d406-e02f-42c6-8526-5cde96a0c77c"
      },
      "outputs": [
        {
          "output_type": "stream",
          "name": "stdout",
          "text": [
            "Coefficients: \n",
            " [-1.30799852e-01  4.94030235e-02  1.09535045e-03  2.70536624e+00\n",
            " -1.59570504e+01  3.41397332e+00  1.11887670e-03 -1.49308124e+00\n",
            "  3.64422378e-01 -1.31718155e-02 -9.52369666e-01  1.17492092e-02\n",
            " -5.94076089e-01]\n",
            "Mean squared error: 20.87\n",
            "Variance score: 0.73\n"
          ]
        }
      ],
      "source": [
        "\n",
        "from sklearn import linear_model\n",
        "# Create linear regression object\n",
        "regr2 = linear_model.LinearRegression()\n",
        "\n",
        "# Train the model using the training sets\n",
        "regrfit= regr2.fit(X_train, Y_train)\n",
        "\n",
        "#Predicting the target variable from test.\n",
        "Y_pred = regr2.predict(X_test)\n",
        "\n",
        "# The coefficients\n",
        "print('Coefficients: \\n', regr2.coef_)\n",
        "\n",
        "# The mean squared error\n",
        "print(\"Mean squared error: %.2f\"\n",
        "      % np.mean((Y_pred - Y_test) ** 2))\n",
        "\n",
        "# Explained variance score: 1 is perfect prediction\n",
        "print('Variance score: %.2f' % regr2.score(X_test, Y_test))\n"
      ]
    },
    {
      "cell_type": "markdown",
      "metadata": {
        "id": "aCteuqM57d_T"
      },
      "source": [
        "#### Residual plots"
      ]
    },
    {
      "cell_type": "code",
      "execution_count": 27,
      "metadata": {
        "colab": {
          "base_uri": "https://localhost:8080/",
          "height": 322
        },
        "id": "8G-ZhvFe7d_T",
        "outputId": "d1f64e9d-9f0d-4bcc-b7bd-196bfc9b75fc"
      },
      "outputs": [
        {
          "output_type": "execute_result",
          "data": {
            "text/plain": [
              "Text(0, 0.5, 'Residuals')"
            ]
          },
          "metadata": {},
          "execution_count": 27
        },
        {
          "output_type": "display_data",
          "data": {
            "text/plain": [
              "<Figure size 432x288 with 1 Axes>"
            ],
            "image/png": "[encoded data removed]"
          },
          "metadata": {}
        }
      ],
      "source": [
        "plt.scatter(regr2.predict(X_train), regr2.predict(X_train) - Y_train, c='b', s=20, alpha=0.5)\n",
        "plt.scatter(regr2.predict(X_test), regr2.predict(X_test) - Y_test, c='g', s=20)\n",
        "plt.hlines(y = 0, xmin=0, xmax = 50)\n",
        "plt.title('Residual Plot using training (blue) and test (green) data',fontsize=20)\n",
        "plt.ylabel('Residuals')"
      ]
    },
    {
      "cell_type": "markdown",
      "source": [
        "### Model evaluation on test data in terms of R^2 (co-efficient of the determination), MSE (mean square error) and RMSE (root mean square error)."
      ],
      "metadata": {
        "id": "1FEVl_r7ErKA"
      }
    },
    {
      "cell_type": "code",
      "source": [
        "# Model Evaluation\n",
        "from sklearn.metrics import r2_score\n",
        "from sklearn.metrics import mean_squared_error\n",
        "print('R^2:',r2_score(Y_test, Y_pred))\n",
        "print('MSE:',mean_squared_error(Y_test, Y_pred))\n",
        "print('RMSE:',np.sqrt(mean_squared_error(Y_test, Y_pred)))"
      ],
      "metadata": {
        "colab": {
          "base_uri": "https://localhost:8080/"
        },
        "id": "sFCGf97FD6wN",
        "outputId": "a32531ca-8fb5-4e71-89e8-4ab350bee205"
      },
      "execution_count": 25,
      "outputs": [
        {
          "output_type": "stream",
          "name": "stdout",
          "text": [
            "R^2: 0.7334492147453086\n",
            "MSE: 20.869292183770735\n",
            "RMSE: 4.5682920423032\n"
          ]
        }
      ]
    },
    {
      "cell_type": "markdown",
      "source": [
        "# **Regression model's score calculation**"
      ],
      "metadata": {
        "id": "RrslE84-oM3y"
      }
    },
    {
      "cell_type": "markdown",
      "source": [
        " **.score()** function is used to correctly calculate the difference between the model's predictions and reality to measure the quality of a model."
      ],
      "metadata": {
        "id": "dwLhg5JZ7vr6"
      }
    },
    {
      "cell_type": "code",
      "source": [
        "regr2.score(X_test, Y_test)"
      ],
      "metadata": {
        "id": "7bw6Y_MsoLsr",
        "colab": {
          "base_uri": "https://localhost:8080/"
        },
        "outputId": "b8d1f404-6a67-4536-e530-11e5b3803789"
      },
      "execution_count": 37,
      "outputs": [
        {
          "output_type": "execute_result",
          "data": {
            "text/plain": [
              "0.7334492147453086"
            ]
          },
          "metadata": {},
          "execution_count": 37
        }
      ]
    },
    {
      "cell_type": "markdown",
      "source": [
        "# **Residuals:**\n",
        "In this step, we will calculate the residuals by subtracting predicted values from actual values. As we have splitted the dataset into training to fit and testing for validation purpose, so we will calculate the residuals by subtrating predicted values (Y_predict) from actual sets (Y_test)."
      ],
      "metadata": {
        "id": "l56IHnT8Wr5v"
      }
    },
    {
      "cell_type": "code",
      "source": [
        "Y_residuals=(Y_test- Y_pred)\n",
        "print (Y_residuals**2)"
      ],
      "metadata": {
        "colab": {
          "base_uri": "https://localhost:8080/"
        },
        "id": "U3OWbWnLZe62",
        "outputId": "9a014c1f-8e06-4b9b-c621-d51e0ef0a9b1"
      },
      "execution_count": 45,
      "outputs": [
        {
          "output_type": "stream",
          "name": "stdout",
          "text": [
            "226     0.001360\n",
            "292    18.015368\n",
            "90     19.942801\n",
            "373    66.083790\n",
            "273     0.010035\n",
            "         ...    \n",
            "349    21.968382\n",
            "212     0.000027\n",
            "156     0.008715\n",
            "480     0.940727\n",
            "248    10.895631\n",
            "Name: PRICE, Length: 102, dtype: float64\n"
          ]
        }
      ]
    },
    {
      "cell_type": "markdown",
      "source": [
        "### Residual sum of squares\n",
        "\n",
        "Let's calculate the residual sum of squares \n",
        "\n",
        "$$ RSS = \\sum_{i=1}^N r_i = \\sum_{i=1}^N (y_i - \\hat{y})^2 $$"
      ],
      "metadata": {
        "id": "7_9jycAKh85i"
      }
    },
    {
      "cell_type": "markdown",
      "source": [
        "finally, add the suares of residuals residuals up to calculate the **Residual Sum of Squares (RSS)**:"
      ],
      "metadata": {
        "id": "FKzjXCclbpID"
      }
    },
    {
      "cell_type": "code",
      "source": [
        "RSS=(Y_residuals**2).sum()\n",
        "print(RSS)"
      ],
      "metadata": {
        "colab": {
          "base_uri": "https://localhost:8080/"
        },
        "id": "xt5KofTcbn4B",
        "outputId": "fb2985ef-961e-42f2-a49b-a87a871dc41c"
      },
      "execution_count": 46,
      "outputs": [
        {
          "output_type": "stream",
          "name": "stdout",
          "text": [
            "2128.667802744615\n"
          ]
        }
      ]
    },
    {
      "cell_type": "markdown",
      "source": [
        "### We have already calculated the variation of the model's prediction. Now we calculate the variation of the real data by comparing each house price value to the average:"
      ],
      "metadata": {
        "id": "jbFHEPQ2hxpG"
      }
    },
    {
      "cell_type": "markdown",
      "source": [
        "Calculation of the mean"
      ],
      "metadata": {
        "id": "THx4D6pzkM2g"
      }
    },
    {
      "cell_type": "code",
      "source": [
        "print (Y_test.mean())"
      ],
      "metadata": {
        "colab": {
          "base_uri": "https://localhost:8080/"
        },
        "id": "moY2bcXfauNE",
        "outputId": "c6529d74-1101-4195-a764-42275f3cdbee"
      },
      "execution_count": 48,
      "outputs": [
        {
          "output_type": "stream",
          "name": "stdout",
          "text": [
            "22.081372549019605\n"
          ]
        }
      ]
    },
    {
      "cell_type": "code",
      "source": [
        "print (Y_test-Y_test.mean())"
      ],
      "metadata": {
        "colab": {
          "base_uri": "https://localhost:8080/"
        },
        "id": "UNJPQufkfL9N",
        "outputId": "2d65fe47-ab32-4ad1-817c-5b6c182f1d5a"
      },
      "execution_count": 49,
      "outputs": [
        {
          "output_type": "stream",
          "name": "stdout",
          "text": [
            "226    15.518627\n",
            "292     5.818627\n",
            "90      0.518627\n",
            "373    -8.281373\n",
            "273    13.118627\n",
            "         ...    \n",
            "349     4.518627\n",
            "212     0.318627\n",
            "156    -8.981373\n",
            "480     0.918627\n",
            "248     2.418627\n",
            "Name: PRICE, Length: 102, dtype: float64\n"
          ]
        }
      ]
    },
    {
      "cell_type": "code",
      "source": [
        "real_residual=(Y_test-Y_test.mean())\n",
        "print (real_residual**2)"
      ],
      "metadata": {
        "colab": {
          "base_uri": "https://localhost:8080/"
        },
        "id": "ki7lWODPfcP1",
        "outputId": "6b284e4d-2144-4736-8651-042867b81433"
      },
      "execution_count": 51,
      "outputs": [
        {
          "output_type": "stream",
          "name": "stdout",
          "text": [
            "226    240.827798\n",
            "292     33.856425\n",
            "90       0.268974\n",
            "373     68.581131\n",
            "273    172.098386\n",
            "          ...    \n",
            "349     20.417994\n",
            "212      0.101523\n",
            "156     80.665053\n",
            "480      0.843876\n",
            "248      5.849759\n",
            "Name: PRICE, Length: 102, dtype: float64\n"
          ]
        }
      ]
    },
    {
      "cell_type": "markdown",
      "source": [
        "And we add up the residual values to get the **Total Sum of Squares (TSS):**\n",
        "\n",
        "Let's calculate the total sum of squares \n",
        "\n",
        "$$ TSS = \\sum_{i=1}^N r_i = \\sum_{i=1}^N (y_i - \\overline{y})^2 $$"
      ],
      "metadata": {
        "id": "wEtJiHy7kRWf"
      }
    },
    {
      "cell_type": "code",
      "source": [
        "TSS=(real_residual**2).sum()\n",
        "print(TSS)"
      ],
      "metadata": {
        "colab": {
          "base_uri": "https://localhost:8080/"
        },
        "id": "lvtyMDM4fx1r",
        "outputId": "f755aedd-40de-420f-f303-80667365d4c5"
      },
      "execution_count": 54,
      "outputs": [
        {
          "output_type": "stream",
          "name": "stdout",
          "text": [
            "7985.974607843138\n"
          ]
        }
      ]
    },
    {
      "cell_type": "code",
      "source": [
        "print (RSS/TSS)"
      ],
      "metadata": {
        "colab": {
          "base_uri": "https://localhost:8080/"
        },
        "id": "_sfePjg9gD80",
        "outputId": "57b35cc0-ca7f-48ad-a29f-8752171a24ae"
      },
      "execution_count": 55,
      "outputs": [
        {
          "output_type": "stream",
          "name": "stdout",
          "text": [
            "0.26655078525469145\n"
          ]
        }
      ]
    },
    {
      "cell_type": "markdown",
      "source": [
        "**Calculatation the coefficient of determination** :\n",
        "To calculate the goodness of the model, we need to subtract the ratio RSS/TSS to 1:\n",
        "\n",
        "\n",
        "$$ R^2 = 1-\\frac{RSS}{TSS} $$"
      ],
      "metadata": {
        "id": "Ou2c7Kncg37q"
      }
    },
    {
      "cell_type": "code",
      "source": [
        "CDR=1-(RSS/TSS)\n",
        "print (CDR)"
      ],
      "metadata": {
        "colab": {
          "base_uri": "https://localhost:8080/"
        },
        "id": "dZzqhFYdgKzB",
        "outputId": "3c908b46-6429-439c-83ee-c21da2ae94ed"
      },
      "execution_count": 57,
      "outputs": [
        {
          "output_type": "stream",
          "name": "stdout",
          "text": [
            "0.7334492147453086\n"
          ]
        }
      ]
    },
    {
      "cell_type": "code",
      "source": [
        ""
      ],
      "metadata": {
        "id": "hnsf6rCctwcA"
      },
      "execution_count": null,
      "outputs": []
    },
    {
      "cell_type": "markdown",
      "source": [
        " we can say that, The **coefficient of the determination (R^2)** of our model is 73.34% ."
      ],
      "metadata": {
        "id": "EZuXFae5hMpf"
      }
    },
    {
      "cell_type": "markdown",
      "source": [
        "# Assignments:\n",
        "Build a linear regression model, to **predict the car price** based on some factors.\n",
        "<p>\n",
        "<li> Gather the data</li>\n",
        "<li> Start the pre-processing step </li>\n",
        "<li> Scaling the data if required </li>\n",
        "<li> Split the data into training (to fit te model) and testing (to validate)</li>.\n",
        "<li> Visualize the model by using single independent variable with the car price.</li>\n",
        "<li> Calculate the prediction.</li>\n",
        "<li> Calculate the <b> RSS</b>, <b>TSS</b> and <b>the coefficient of the determination(R^2) </b> </li>\n",
        "</p>\n",
        "\n",
        "\n",
        "\n",
        "\n"
      ],
      "metadata": {
        "id": "CPo78Kz0jQhc"
      }
    },
    {
      "cell_type": "markdown",
      "source": [
        "### Loading the car price prediction data"
      ],
      "metadata": {
        "id": "u_f1ipeA0S9N"
      }
    },
    {
      "cell_type": "code",
      "source": [
        "car_data=pd.read_csv('/content/CarPrice_Assignment (1).csv')\n",
        "#print (car_data)\n",
        "car_data"
      ],
      "metadata": {
        "colab": {
          "base_uri": "https://localhost:8080/",
          "height": 557
        },
        "id": "qgCKl5i6vHrR",
        "outputId": "81374e60-7516-49ee-bf98-553770082fb0"
      },
      "execution_count": 61,
      "outputs": [
        {
          "output_type": "execute_result",
          "data": {
            "text/plain": [
              "     car_ID  symboling                   CarName fueltype aspiration  \\\n",
              "0         1          3        alfa-romero giulia      gas        std   \n",
              "1         2          3       alfa-romero stelvio      gas        std   \n",
              "2         3          1  alfa-romero Quadrifoglio      gas        std   \n",
              "3         4          2               audi 100 ls      gas        std   \n",
              "4         5          2                audi 100ls      gas        std   \n",
              "..      ...        ...                       ...      ...        ...   \n",
              "200     201         -1           volvo 145e (sw)      gas        std   \n",
              "201     202         -1               volvo 144ea      gas      turbo   \n",
              "202     203         -1               volvo 244dl      gas        std   \n",
              "203     204         -1                 volvo 246   diesel      turbo   \n",
              "204     205         -1               volvo 264gl      gas      turbo   \n",
              "\n",
              "    doornumber      carbody drivewheel enginelocation  wheelbase  ...  \\\n",
              "0          two  convertible        rwd          front       88.6  ...   \n",
              "1          two  convertible        rwd          front       88.6  ...   \n",
              "2          two    hatchback        rwd          front       94.5  ...   \n",
              "3         four        sedan        fwd          front       99.8  ...   \n",
              "4         four        sedan        4wd          front       99.4  ...   \n",
              "..         ...          ...        ...            ...        ...  ...   \n",
              "200       four        sedan        rwd          front      109.1  ...   \n",
              "201       four        sedan        rwd          front      109.1  ...   \n",
              "202       four        sedan        rwd          front      109.1  ...   \n",
              "203       four        sedan        rwd          front      109.1  ...   \n",
              "204       four        sedan        rwd          front      109.1  ...   \n",
              "\n",
              "     enginesize  fuelsystem  boreratio  stroke compressionratio horsepower  \\\n",
              "0           130        mpfi       3.47    2.68              9.0        111   \n",
              "1           130        mpfi       3.47    2.68              9.0        111   \n",
              "2           152        mpfi       2.68    3.47              9.0        154   \n",
              "3           109        mpfi       3.19    3.40             10.0        102   \n",
              "4           136        mpfi       3.19    3.40              8.0        115   \n",
              "..          ...         ...        ...     ...              ...        ...   \n",
              "200         141        mpfi       3.78    3.15              9.5        114   \n",
              "201         141        mpfi       3.78    3.15              8.7        160   \n",
              "202         173        mpfi       3.58    2.87              8.8        134   \n",
              "203         145         idi       3.01    3.40             23.0        106   \n",
              "204         141        mpfi       3.78    3.15              9.5        114   \n",
              "\n",
              "     peakrpm citympg  highwaympg    price  \n",
              "0       5000      21          27  13495.0  \n",
              "1       5000      21          27  16500.0  \n",
              "2       5000      19          26  16500.0  \n",
              "3       5500      24          30  13950.0  \n",
              "4       5500      18          22  17450.0  \n",
              "..       ...     ...         ...      ...  \n",
              "200     5400      23          28  16845.0  \n",
              "201     5300      19          25  19045.0  \n",
              "202     5500      18          23  21485.0  \n",
              "203     4800      26          27  22470.0  \n",
              "204     5400      19          25  22625.0  \n",
              "\n",
              "[205 rows x 26 columns]"
            ],
            "text/html": [
              "\n",
              "  <div id=\"df-57a7de00-c25a-45a9-8a03-e514eb7255a6\">\n",
              "    <div class=\"colab-df-container\">\n",
              "      <div>\n",
              "<style scoped>\n",
              "    .dataframe tbody tr th:only-of-type {\n",
              "        vertical-align: middle;\n",
              "    }\n",
              "\n",
              "    .dataframe tbody tr th {\n",
              "        vertical-align: top;\n",
              "    }\n",
              "\n",
              "    .dataframe thead th {\n",
              "        text-align: right;\n",
              "    }\n",
              "</style>\n",
              "<table border=\"1\" class=\"dataframe\">\n",
              "  <thead>\n",
              "    <tr style=\"text-align: right;\">\n",
              "      <th></th>\n",
              "      <th>car_ID</th>\n",
              "      <th>symboling</th>\n",
              "      <th>CarName</th>\n",
              "      <th>fueltype</th>\n",
              "      <th>aspiration</th>\n",
              "      <th>doornumber</th>\n",
              "      <th>carbody</th>\n",
              "      <th>drivewheel</th>\n",
              "      <th>enginelocation</th>\n",
              "      <th>wheelbase</th>\n",
              "      <th>...</th>\n",
              "      <th>enginesize</th>\n",
              "      <th>fuelsystem</th>\n",
              "      <th>boreratio</th>\n",
              "      <th>stroke</th>\n",
              "      <th>compressionratio</th>\n",
              "      <th>horsepower</th>\n",
              "      <th>peakrpm</th>\n",
              "      <th>citympg</th>\n",
              "      <th>highwaympg</th>\n",
              "      <th>price</th>\n",
              "    </tr>\n",
              "  </thead>\n",
              "  <tbody>\n",
              "    <tr>\n",
              "      <th>0</th>\n",
              "      <td>1</td>\n",
              "      <td>3</td>\n",
              "      <td>alfa-romero giulia</td>\n",
              "      <td>gas</td>\n",
              "      <td>std</td>\n",
              "      <td>two</td>\n",
              "      <td>convertible</td>\n",
              "      <td>rwd</td>\n",
              "      <td>front</td>\n",
              "      <td>88.6</td>\n",
              "      <td>...</td>\n",
              "      <td>130</td>\n",
              "      <td>mpfi</td>\n",
              "      <td>3.47</td>\n",
              "      <td>2.68</td>\n",
              "      <td>9.0</td>\n",
              "      <td>111</td>\n",
              "      <td>5000</td>\n",
              "      <td>21</td>\n",
              "      <td>27</td>\n",
              "      <td>13495.0</td>\n",
              "    </tr>\n",
              "    <tr>\n",
              "      <th>1</th>\n",
              "      <td>2</td>\n",
              "      <td>3</td>\n",
              "      <td>alfa-romero stelvio</td>\n",
              "      <td>gas</td>\n",
              "      <td>std</td>\n",
              "      <td>two</td>\n",
              "      <td>convertible</td>\n",
              "      <td>rwd</td>\n",
              "      <td>front</td>\n",
              "      <td>88.6</td>\n",
              "      <td>...</td>\n",
              "      <td>130</td>\n",
              "      <td>mpfi</td>\n",
              "      <td>3.47</td>\n",
              "      <td>2.68</td>\n",
              "      <td>9.0</td>\n",
              "      <td>111</td>\n",
              "      <td>5000</td>\n",
              "      <td>21</td>\n",
              "      <td>27</td>\n",
              "      <td>16500.0</td>\n",
              "    </tr>\n",
              "    <tr>\n",
              "      <th>2</th>\n",
              "      <td>3</td>\n",
              "      <td>1</td>\n",
              "      <td>alfa-romero Quadrifoglio</td>\n",
              "      <td>gas</td>\n",
              "      <td>std</td>\n",
              "      <td>two</td>\n",
              "      <td>hatchback</td>\n",
              "      <td>rwd</td>\n",
              "      <td>front</td>\n",
              "      <td>94.5</td>\n",
              "      <td>...</td>\n",
              "      <td>152</td>\n",
              "      <td>mpfi</td>\n",
              "      <td>2.68</td>\n",
              "      <td>3.47</td>\n",
              "      <td>9.0</td>\n",
              "      <td>154</td>\n",
              "      <td>5000</td>\n",
              "      <td>19</td>\n",
              "      <td>26</td>\n",
              "      <td>16500.0</td>\n",
              "    </tr>\n",
              "    <tr>\n",
              "      <th>3</th>\n",
              "      <td>4</td>\n",
              "      <td>2</td>\n",
              "      <td>audi 100 ls</td>\n",
              "      <td>gas</td>\n",
              "      <td>std</td>\n",
              "      <td>four</td>\n",
              "      <td>sedan</td>\n",
              "      <td>fwd</td>\n",
              "      <td>front</td>\n",
              "      <td>99.8</td>\n",
              "      <td>...</td>\n",
              "      <td>109</td>\n",
              "      <td>mpfi</td>\n",
              "      <td>3.19</td>\n",
              "      <td>3.40</td>\n",
              "      <td>10.0</td>\n",
              "      <td>102</td>\n",
              "      <td>5500</td>\n",
              "      <td>24</td>\n",
              "      <td>30</td>\n",
              "      <td>13950.0</td>\n",
              "    </tr>\n",
              "    <tr>\n",
              "      <th>4</th>\n",
              "      <td>5</td>\n",
              "      <td>2</td>\n",
              "      <td>audi 100ls</td>\n",
              "      <td>gas</td>\n",
              "      <td>std</td>\n",
              "      <td>four</td>\n",
              "      <td>sedan</td>\n",
              "      <td>4wd</td>\n",
              "      <td>front</td>\n",
              "      <td>99.4</td>\n",
              "      <td>...</td>\n",
              "      <td>136</td>\n",
              "      <td>mpfi</td>\n",
              "      <td>3.19</td>\n",
              "      <td>3.40</td>\n",
              "      <td>8.0</td>\n",
              "      <td>115</td>\n",
              "      <td>5500</td>\n",
              "      <td>18</td>\n",
              "      <td>22</td>\n",
              "      <td>17450.0</td>\n",
              "    </tr>\n",
              "    <tr>\n",
              "      <th>...</th>\n",
              "      <td>...</td>\n",
              "      <td>...</td>\n",
              "      <td>...</td>\n",
              "      <td>...</td>\n",
              "      <td>...</td>\n",
              "      <td>...</td>\n",
              "      <td>...</td>\n",
              "      <td>...</td>\n",
              "      <td>...</td>\n",
              "      <td>...</td>\n",
              "      <td>...</td>\n",
              "      <td>...</td>\n",
              "      <td>...</td>\n",
              "      <td>...</td>\n",
              "      <td>...</td>\n",
              "      <td>...</td>\n",
              "      <td>...</td>\n",
              "      <td>...</td>\n",
              "      <td>...</td>\n",
              "      <td>...</td>\n",
              "      <td>...</td>\n",
              "    </tr>\n",
              "    <tr>\n",
              "      <th>200</th>\n",
              "      <td>201</td>\n",
              "      <td>-1</td>\n",
              "      <td>volvo 145e (sw)</td>\n",
              "      <td>gas</td>\n",
              "      <td>std</td>\n",
              "      <td>four</td>\n",
              "      <td>sedan</td>\n",
              "      <td>rwd</td>\n",
              "      <td>front</td>\n",
              "      <td>109.1</td>\n",
              "      <td>...</td>\n",
              "      <td>141</td>\n",
              "      <td>mpfi</td>\n",
              "      <td>3.78</td>\n",
              "      <td>3.15</td>\n",
              "      <td>9.5</td>\n",
              "      <td>114</td>\n",
              "      <td>5400</td>\n",
              "      <td>23</td>\n",
              "      <td>28</td>\n",
              "      <td>16845.0</td>\n",
              "    </tr>\n",
              "    <tr>\n",
              "      <th>201</th>\n",
              "      <td>202</td>\n",
              "      <td>-1</td>\n",
              "      <td>volvo 144ea</td>\n",
              "      <td>gas</td>\n",
              "      <td>turbo</td>\n",
              "      <td>four</td>\n",
              "      <td>sedan</td>\n",
              "      <td>rwd</td>\n",
              "      <td>front</td>\n",
              "      <td>109.1</td>\n",
              "      <td>...</td>\n",
              "      <td>141</td>\n",
              "      <td>mpfi</td>\n",
              "      <td>3.78</td>\n",
              "      <td>3.15</td>\n",
              "      <td>8.7</td>\n",
              "      <td>160</td>\n",
              "      <td>5300</td>\n",
              "      <td>19</td>\n",
              "      <td>25</td>\n",
              "      <td>19045.0</td>\n",
              "    </tr>\n",
              "    <tr>\n",
              "      <th>202</th>\n",
              "      <td>203</td>\n",
              "      <td>-1</td>\n",
              "      <td>volvo 244dl</td>\n",
              "      <td>gas</td>\n",
              "      <td>std</td>\n",
              "      <td>four</td>\n",
              "      <td>sedan</td>\n",
              "      <td>rwd</td>\n",
              "      <td>front</td>\n",
              "      <td>109.1</td>\n",
              "      <td>...</td>\n",
              "      <td>173</td>\n",
              "      <td>mpfi</td>\n",
              "      <td>3.58</td>\n",
              "      <td>2.87</td>\n",
              "      <td>8.8</td>\n",
              "      <td>134</td>\n",
              "      <td>5500</td>\n",
              "      <td>18</td>\n",
              "      <td>23</td>\n",
              "      <td>21485.0</td>\n",
              "    </tr>\n",
              "    <tr>\n",
              "      <th>203</th>\n",
              "      <td>204</td>\n",
              "      <td>-1</td>\n",
              "      <td>volvo 246</td>\n",
              "      <td>diesel</td>\n",
              "      <td>turbo</td>\n",
              "      <td>four</td>\n",
              "      <td>sedan</td>\n",
              "      <td>rwd</td>\n",
              "      <td>front</td>\n",
              "      <td>109.1</td>\n",
              "      <td>...</td>\n",
              "      <td>145</td>\n",
              "      <td>idi</td>\n",
              "      <td>3.01</td>\n",
              "      <td>3.40</td>\n",
              "      <td>23.0</td>\n",
              "      <td>106</td>\n",
              "      <td>4800</td>\n",
              "      <td>26</td>\n",
              "      <td>27</td>\n",
              "      <td>22470.0</td>\n",
              "    </tr>\n",
              "    <tr>\n",
              "      <th>204</th>\n",
              "      <td>205</td>\n",
              "      <td>-1</td>\n",
              "      <td>volvo 264gl</td>\n",
              "      <td>gas</td>\n",
              "      <td>turbo</td>\n",
              "      <td>four</td>\n",
              "      <td>sedan</td>\n",
              "      <td>rwd</td>\n",
              "      <td>front</td>\n",
              "      <td>109.1</td>\n",
              "      <td>...</td>\n",
              "      <td>141</td>\n",
              "      <td>mpfi</td>\n",
              "      <td>3.78</td>\n",
              "      <td>3.15</td>\n",
              "      <td>9.5</td>\n",
              "      <td>114</td>\n",
              "      <td>5400</td>\n",
              "      <td>19</td>\n",
              "      <td>25</td>\n",
              "      <td>22625.0</td>\n",
              "    </tr>\n",
              "  </tbody>\n",
              "</table>\n",
              "<p>205 rows × 26 columns</p>\n",
              "</div>\n",
              "      <button class=\"colab-df-convert\" onclick=\"convertToInteractive('df-57a7de00-c25a-45a9-8a03-e514eb7255a6')\"\n",
              "              title=\"Convert this dataframe to an interactive table.\"\n",
              "              style=\"display:none;\">\n",
              "        \n",
              "  <svg xmlns=\"http://www.w3.org/2000/svg\" height=\"24px\"viewBox=\"0 0 24 24\"\n",
              "       width=\"24px\">\n",
              "    <path d=\"M0 0h24v24H0V0z\" fill=\"none\"/>\n",
              "    <path d=\"M18.56 5.44l.94 2.06.94-2.06 2.06-.94-2.06-.94-.94-2.06-.94 2.06-2.06.94zm-11 1L8.5 8.5l.94-2.06 2.06-.94-2.06-.94L8.5 2.5l-.94 2.06-2.06.94zm10 10l.94 2.06.94-2.06 2.06-.94-2.06-.94-.94-2.06-.94 2.06-2.06.94z\"/><path d=\"M17.41 7.96l-1.37-1.37c-.4-.4-.92-.59-1.43-.59-.52 0-1.04.2-1.43.59L10.3 9.45l-7.72 7.72c-.78.78-.78 2.05 0 2.83L4 21.41c.39.39.9.59 1.41.59.51 0 1.02-.2 1.41-.59l7.78-7.78 2.81-2.81c.8-.78.8-2.07 0-2.86zM5.41 20L4 18.59l7.72-7.72 1.47 1.35L5.41 20z\"/>\n",
              "  </svg>\n",
              "      </button>\n",
              "      \n",
              "  <style>\n",
              "    .colab-df-container {\n",
              "      display:flex;\n",
              "      flex-wrap:wrap;\n",
              "      gap: 12px;\n",
              "    }\n",
              "\n",
              "    .colab-df-convert {\n",
              "      background-color: #E8F0FE;\n",
              "      border: none;\n",
              "      border-radius: 50%;\n",
              "      cursor: pointer;\n",
              "      display: none;\n",
              "      fill: #1967D2;\n",
              "      height: 32px;\n",
              "      padding: 0 0 0 0;\n",
              "      width: 32px;\n",
              "    }\n",
              "\n",
              "    .colab-df-convert:hover {\n",
              "      background-color: #E2EBFA;\n",
              "      box-shadow: 0px 1px 2px rgba(60, 64, 67, 0.3), 0px 1px 3px 1px rgba(60, 64, 67, 0.15);\n",
              "      fill: #174EA6;\n",
              "    }\n",
              "\n",
              "    [theme=dark] .colab-df-convert {\n",
              "      background-color: #3B4455;\n",
              "      fill: #D2E3FC;\n",
              "    }\n",
              "\n",
              "    [theme=dark] .colab-df-convert:hover {\n",
              "      background-color: #434B5C;\n",
              "      box-shadow: 0px 1px 3px 1px rgba(0, 0, 0, 0.15);\n",
              "      filter: drop-shadow(0px 1px 2px rgba(0, 0, 0, 0.3));\n",
              "      fill: #FFFFFF;\n",
              "    }\n",
              "  </style>\n",
              "\n",
              "      <script>\n",
              "        const buttonEl =\n",
              "          document.querySelector('#df-57a7de00-c25a-45a9-8a03-e514eb7255a6 button.colab-df-convert');\n",
              "        buttonEl.style.display =\n",
              "          google.colab.kernel.accessAllowed ? 'block' : 'none';\n",
              "\n",
              "        async function convertToInteractive(key) {\n",
              "          const element = document.querySelector('#df-57a7de00-c25a-45a9-8a03-e514eb7255a6');\n",
              "          const dataTable =\n",
              "            await google.colab.kernel.invokeFunction('convertToInteractive',\n",
              "                                                     [key], {});\n",
              "          if (!dataTable) return;\n",
              "\n",
              "          const docLinkHtml = 'Like what you see? Visit the ' +\n",
              "            '<a target=\"_blank\" href=https://colab.research.google.com/notebooks/data_table.ipynb>data table notebook</a>'\n",
              "            + ' to learn more about interactive tables.';\n",
              "          element.innerHTML = '';\n",
              "          dataTable['output_type'] = 'display_data';\n",
              "          await google.colab.output.renderOutput(dataTable, element);\n",
              "          const docLink = document.createElement('div');\n",
              "          docLink.innerHTML = docLinkHtml;\n",
              "          element.appendChild(docLink);\n",
              "        }\n",
              "      </script>\n",
              "    </div>\n",
              "  </div>\n",
              "  "
            ]
          },
          "metadata": {},
          "execution_count": 61
        }
      ]
    },
    {
      "cell_type": "code",
      "source": [
        ""
      ],
      "metadata": {
        "id": "Yae9vVHevRyr"
      },
      "execution_count": null,
      "outputs": []
    }
  ],
  "metadata": {
    "anaconda-cloud": {},
    "kernelspec": {
      "display_name": "Python 3 (ipykernel)",
      "language": "python",
      "name": "python3"
    },
    "language_info": {
      "codemirror_mode": {
        "name": "ipython",
        "version": 3
      },
      "file_extension": ".py",
      "mimetype": "text/x-python",
      "name": "python",
      "nbconvert_exporter": "python",
      "pygments_lexer": "ipython3",
      "version": "3.8.0"
    },
    "colab": {
      "name": "btech_linear_regression_lab1.ipynb",
      "provenance": [],
      "collapsed_sections": []
    }
  },
  "nbformat": 4,
  "nbformat_minor": 0
}